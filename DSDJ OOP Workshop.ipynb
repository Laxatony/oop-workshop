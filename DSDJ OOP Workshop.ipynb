{
 "cells": [
  {
   "cell_type": "markdown",
   "metadata": {},
   "source": [
    "# DSDJ OOP Workshop\n",
    "\n",
    "<br>"
   ]
  },
  {
   "cell_type": "markdown",
   "metadata": {},
   "source": [
    "# Part 1 - Theory and Examples"
   ]
  },
  {
   "cell_type": "markdown",
   "metadata": {},
   "source": [
    "## 1.1 Procedural programming"
   ]
  },
  {
   "cell_type": "markdown",
   "metadata": {},
   "source": [
    "### What is procedural code?\n",
    "\n",
    "**Procedural code is as much a mindset as it is a literal coding style.**\n",
    "\n",
    "**The idea is that your code is a set of instructions that run one after another.**"
   ]
  },
  {
   "cell_type": "markdown",
   "metadata": {},
   "source": [
    "### Let's look at an example\n",
    "\n",
    "Our goal is to calculate the best student from 3 given students. Each student has 3 exam grades.\n",
    "We define the best student as the one with the highest average grade.\n",
    "\n",
    "Then, we want to add two new students to the group and find the best and worst student.\n",
    "We define the worst student as the one with the lowest average grade."
   ]
  },
  {
   "cell_type": "code",
   "execution_count": 17,
   "metadata": {},
   "outputs": [
    {
     "name": "stdout",
     "output_type": "stream",
     "text": [
      "The best student is ahmad\n",
      "The best student is joe\n",
      "The worst student is afra\n"
     ]
    }
   ],
   "source": [
    "student_grades = {'ahmad':[92, 81, 86], 'rahul':[39, 58, 81], 'kelly':[100, 71, 80]}\n",
    "\n",
    "average_grades = {}\n",
    "\n",
    "for student in student_grades:\n",
    "    grades = student_grades[student]\n",
    "    average_grades[student] = sum(grades)/len(grades)\n",
    "    \n",
    "best_student = max(average_grades, key=average_grades.get)\n",
    "\n",
    "print('The best student is ' + best_student)\n",
    "\n",
    "student_grades['joe'] = [94, 96, 91]\n",
    "\n",
    "average_grades['joe'] = sum(student_grades['joe'])/len(student_grades['joe'])\n",
    "\n",
    "student_grades['afra'] = [94, 23, 0]\n",
    "\n",
    "average_grades['afra'] = sum(student_grades['afra'])/len(student_grades['afra'])\n",
    "    \n",
    "best_student = max(average_grades, key=average_grades.get)\n",
    "\n",
    "print('The best student is ' + best_student)\n",
    "\n",
    "worst_student = min(average_grades, key=average_grades.get)\n",
    "\n",
    "print('The worst student is ' + worst_student)\n"
   ]
  },
  {
   "cell_type": "markdown",
   "metadata": {},
   "source": [
    "### Problems with this code:\n",
    "-  Can't be reused\n",
    " - what if we want to do the same procedure with 5 new students?\n",
    " - we need to copy-paste code and change parts of it, hoping we don't make any mistakes along the way\n",
    "<br>\n",
    "<br>\n",
    "- Can't be tested\n",
    " - what if my worst_student calculation is wrong? how would I know?\n",
    " - different functionalities can't be isolated... they're potentially all intertwined since everything has a global scope\n",
    "<br>\n",
    "<br>\n",
    "-  Can't be refactored easily\n",
    " - if we want to change my average calculation, we need to change it 3 times\n",
    "<br>\n",
    "<br>\n",
    "-  Can't be debugged easily\n",
    " - if we end up with a bug, we have to manually trace it back through the entire program\n",
    "<br>\n",
    "<br>\n",
    "-  The code becomes extremely complex very quickly... it continually increases in complexity over time (potentially exponentially)\n",
    "<br>\n",
    "<br>\n",
    "-  If it can't be reused or tested, then it can't be automated.\n",
    "<br>\n",
    "<br>\n",
    "-  It's too specific! At best, it solves exactly 1 problem... it will never scale."
   ]
  },
  {
   "cell_type": "markdown",
   "metadata": {},
   "source": [
    "## 1.2 Object-orient programming\n",
    "\n",
    "### What is object-orient code?\n",
    "\n",
    "**Object-oriented programming is a paradigm that says that our program should consist of well-defined objects that can be modified and interact with each other in predictable ways.**\n",
    "\n",
    "**There should be a pre-defined interface that says what an object can and can't do and what data it has associated with it.**\n",
    "\n",
    "**Instead of having a list of complex procedures to follow, we'll create and modify objects that hide the complexity interally.**\n",
    "\n",
    "**Then, our procedural code will simply describe how objects are created, modified, and interact.**\n",
    "\n",
    "<br>\n",
    "\n",
    "### Let's look at an example"
   ]
  },
  {
   "cell_type": "code",
   "execution_count": 68,
   "metadata": {},
   "outputs": [],
   "source": [
    "class Students():\n",
    "    def __init__(self, student_grades={}):\n",
    "        self.student_grades = student_grades\n",
    "        self.average_grades = {}\n",
    "        self.best_student = None\n",
    "        self.worst_student = None\n",
    "        self._calculate()\n",
    "        \n",
    "    def _calculate(self):\n",
    "        \"\"\"calls internal functions to calculate and update self.average_grades, self.best_student, and self.worst_student\"\"\"\n",
    "        self._calc_ave_grades()\n",
    "        self._calc_best_student()\n",
    "        self._calc_worst_student()\n",
    "\n",
    "    def _calc_ave_grades(self):\n",
    "        \"\"\"calculates the average grades for all students and updates self.average_grades\"\"\"\n",
    "        for student in self.student_grades:\n",
    "            grades = self.student_grades[student]\n",
    "            self.average_grades[student] = sum(grades)/len(grades)\n",
    "    \n",
    "    def _calc_best_student(self):\n",
    "        \"\"\"finds the student with the highest average grade and stores result in self.best_student\"\"\"\n",
    "        self.best_student = max(self.average_grades, key=self.average_grades.get)\n",
    "\n",
    "    def _calc_worst_student(self):\n",
    "        \"\"\"finds the student with the lowest average grade and stores result in self.best_student\"\"\"\n",
    "        self.worst_student = min(self.average_grades, key=self.average_grades.get)\n",
    "        \n",
    "    def add_student(self, name, grades):\n",
    "        \"\"\"adds a new student and recalculates grade averages, best student, and worst student\"\"\"\n",
    "        self.student_grades[name] = grades\n",
    "        self._calculate()\n",
    "    \n",
    "    def print_best_student(self):\n",
    "        \"\"\"prints the best student\"\"\"\n",
    "        print('The best student is ' + self.best_student + '.')\n",
    "        \n",
    "    def print_worst_student(self):\n",
    "        \"\"\"prints the worst student\"\"\"\n",
    "        print('The worst student is ' + self.worst_student + '.')"
   ]
  },
  {
   "cell_type": "markdown",
   "metadata": {},
   "source": [
    "#### By clearly defining our Students object, our procedural code become extremely simple:"
   ]
  },
  {
   "cell_type": "code",
   "execution_count": 70,
   "metadata": {},
   "outputs": [
    {
     "name": "stdout",
     "output_type": "stream",
     "text": [
      "The best student is ahmad.\n",
      "The best student is joe.\n",
      "The worst student is afra.\n"
     ]
    }
   ],
   "source": [
    "my_students = Students({'ahmad':[92, 81, 86], 'rahul':[39, 58, 81], 'kelly':[100, 71, 80]})\n",
    "\n",
    "my_students.print_best_student()\n",
    "\n",
    "my_students.add_student('joe', [94, 96, 91])\n",
    "\n",
    "my_students.add_student('afra', [94, 23, 0])\n",
    "\n",
    "my_students.print_best_student()\n",
    "\n",
    "my_students.print_worst_student()"
   ]
  },
  {
   "cell_type": "markdown",
   "metadata": {},
   "source": [
    "### What's the difference?\n",
    "15 lines of code were reduced to 6 lines of code.\n",
    "Our untestable code was broken into smaller, testable chunks.\n",
    "<br>"
   ]
  },
  {
   "cell_type": "markdown",
   "metadata": {},
   "source": [
    "Now, we're just creating a students object and interacting with it in a pre-defined way.\n",
    "\n",
    "There is no risk that we accidently incorrectly calculate the average grade or best student because that functionality has been abstracted away.\n",
    "\n",
    "All of the complexity has been moved into the class and abstracted out of the procedural code.\n",
    "\n",
    "We simply have an interface that interacts with a students object.\n",
    "\n",
    "It would now be easy to create an API for adding students to the group and finding the best student.\n",
    "\n",
    "This interface can easily be extended with new functionality for all students.\n",
    "\n",
    "We can also create new student groups... for example, we may one one Student object to represent a class of 3rd graders and another Student object to represent a class of 4th graders.\n",
    "\n",
    "The procedures will not increase in complexity because they are defined by the API - it is well defined (by the class templates) how we can and cannot interact with each object...\n",
    "\n",
    "We have abstracted away the complexity and encapsulated the data and functions needed for each object as attribute and methods in the class."
   ]
  },
  {
   "cell_type": "code",
   "execution_count": 7,
   "metadata": {},
   "outputs": [
    {
     "name": "stdout",
     "output_type": "stream",
     "text": [
      "The best student is ahmad.\n",
      "The best student is ashish.\n"
     ]
    }
   ],
   "source": [
    "third_graders = Students({'ahmad':[92, 81, 86], 'rahul':[39, 58, 81], 'kelly':[100, 71, 80]})\n",
    "fourth_graders = Students({'ashish':[78, 85, 80], 'jim':[55, 85, 80], 'li':[40, 61, 50]})\n",
    "\n",
    "third_graders.print_student('best')\n",
    "fourth_graders.print_student('best')"
   ]
  },
  {
   "cell_type": "markdown",
   "metadata": {},
   "source": [
    "If I want to do the same thing with the procedural code, I now have to copy-past my entire code and try to add prefixes to everything..."
   ]
  },
  {
   "cell_type": "markdown",
   "metadata": {},
   "source": [
    "<br>\n",
    "<br>"
   ]
  },
  {
   "cell_type": "markdown",
   "metadata": {},
   "source": [
    "## 1.3 Definitions and OOP advantages\n",
    "\n",
    "### Object\n",
    "Def: group of functions (aka methods) and variables (aka attributes) bundled together\n",
    "\n",
    "### Class\n",
    "Def: template used to create objects\n",
    "\n",
    "### Instantiation\n",
    "Def: the process of creating an object from a class and some input parameter(s)\n",
    "\n",
    "### OOP Advantages:\n",
    "-  moves complexity away from procedure structure into object structure\n",
    "-  allows many similar object to be created from the same template\n",
    "-  ensure all objects are consistent since the same template is used (no risk of writing an incorrect procedure)\n",
    "-  keeps procedures simple by creating well-defined system\n",
    "-  easily testable with unit tests"
   ]
  },
  {
   "cell_type": "markdown",
   "metadata": {},
   "source": [
    "<br>\n",
    "## 1.4 Four Pillars of OOP"
   ]
  },
  {
   "cell_type": "markdown",
   "metadata": {},
   "source": [
    "### 1 - Encapsulation\n",
    "\n",
    "Def: Hiding the implementation details from the end user and reducing variable scope to the object level\n",
    "\n",
    "Benefits:\n",
    "-  Protects user from accidently accessing or modifying local variables\n",
    "-  Ties variables and functions together\n",
    "    \n",
    "Example:\n",
    "    \n",
    "    player_1_score = 7\n",
    "    player_1_time = 243\n",
    "    player_1_final_level = 3\n",
    "    \n",
    "becomes...\n",
    "    \n",
    "    player_1.score\n",
    "    player_1.time\n",
    "    player_1.final_level\n",
    "    \n",
    "Now, it is clear which score belongs with which player.\n",
    "<br>"
   ]
  },
  {
   "cell_type": "markdown",
   "metadata": {},
   "source": [
    "### 2 - Abstraction\n",
    "\n",
    "Def: The process of hiding implementation details from the end user\n",
    "\n",
    "For example:\n",
    "-  Creating functions for common code patterns\n",
    "-  Creating groups of functions and variables for common, but more complex code patterns (these are called objects)\n",
    "\n",
    "Benefits:\n",
    "-  Ensures consistency across all procedures (don't try to copy-paste)\n",
    "-  Allows changes to be made in many places at once by simply changing the abstraction instead of each procedure\n",
    "-  Makes complex procedures easily testable\n",
    "    \n",
    "Example:\n",
    "    \n",
    "    data_1 = [3, 4, 1, 5]\n",
    "    data_2 = [5, 1, 1, 8]\n",
    "    data_3 = [2, 2, 2, 3]\n",
    "    \n",
    "    data_1_average = sum(data_1)/len(data_1)\n",
    "    data_2_average = sum(data_2)/len(data_2)\n",
    "    data_3_average = sum(data_3)/len(data_3)\n",
    "    \n",
    "becomes...\n",
    "\n",
    "    def my_average(data):\n",
    "        return sum(data)/len(data)\n",
    "        \n",
    "    data_1_average = my_average(data_1)\n",
    "    data_2_average = my_average(data_2)\n",
    "    data_3_average = my_average(data_3)\n",
    "    \n",
    "We no longer need to worry that all 3 average calculations are done the same way.\n",
    "We can also simultaneously change all of them if we choose without changing our procedural code.\n",
    "We can easily test that our my_average function works correctly by creating unit tests.\n",
    "\n",
    "Abstractions can be done for much more complex patterns.\n",
    "<br>    "
   ]
  },
  {
   "cell_type": "markdown",
   "metadata": {},
   "source": [
    "### 3- Inheritence\n",
    "\n",
    "Def: The passing of methods and attributes from one class to another. A child (or derived) class will inherit the properties of the parent (or base) class.\n",
    "\n",
    "Example:\n",
    "\n",
    "    class Person:\n",
    "        def __init__(self, name):\n",
    "            self.name = name\n",
    "\n",
    "    class Teacher(Person):\n",
    "        def __init__(self, name, subject):\n",
    "            Person.__init__(self, name)\n",
    "            self.subject = subject\n",
    "            \n",
    "    class Student(Person):\n",
    "        def __init__(self, name, grade_level):\n",
    "            Person.__init__(self, name)\n",
    "            self.grade_level = grade_level\n",
    "           \n",
    "<br>"
   ]
  },
  {
   "cell_type": "markdown",
   "metadata": {},
   "source": [
    "### 4 - Polymorphism\n",
    "\n",
    "Def: The ability to have a common interface for different data types. \n",
    "\n",
    "Example 1:\n",
    "\n",
    "    >>> len([1, 2, 3, 4])\n",
    "    4\n",
    "    \n",
    "    >>> len('hello!')\n",
    "    6\n",
    "    \n",
    "The function can be applied to different data types to delivers fundamentally different functionality.\n",
    "This is an example of overloading a function.\n",
    "\n",
    "\n",
    "Example 2:\n",
    "\n",
    "    >>> 4 + 5\n",
    "    9\n",
    "    \n",
    "    >>> 'abc' + 'xyz'\n",
    "    'abcxyz'\n",
    "    \n",
    "This is an example of overloading an operator. If you wanted, you could extend the '+' operator to work with your classes as well.\n",
    "\n",
    "\n",
    "Example 3:\n",
    "\n",
    "    class Dog():\n",
    "        def __init__(self, name):\n",
    "            pass\n",
    "        \n",
    "        def speak(self):\n",
    "            print('woof')\n",
    "\n",
    "    class Cat():\n",
    "        def __init__(self):\n",
    "            pass\n",
    "            \n",
    "        def speak(self):\n",
    "            print('meow')\n",
    "\n",
    "    fido = Dog()\n",
    "    sprinkle = Cat()\n",
    "    \n",
    "    >>> for animal in [fido, sprinkle]:\n",
    "    >>>    animal.speak()\n",
    "    woof\n",
    "    meow\n",
    "\n",
    "Here, we have the same interface for Dog and Cat.\n",
    "\n",
    "\n",
    "Example 4:\n",
    "\n",
    "    model_1 = sklearn.ensemble.RandomForestClassifier()\n",
    "    model_2 = sklearn.svm.SVC()\n",
    "    ...\n",
    "    model_1.fit(feature_df, target_df)\n",
    "    model_2.fit(feature_df, target_df)\n",
    "    \n",
    "Same interface for multiple ML models.\n",
    "You can even create your own models that follow the sklearn API and use them interchangably with sklearn!\n",
    "    \n",
    "<br>"
   ]
  },
  {
   "cell_type": "markdown",
   "metadata": {},
   "source": [
    "<br>\n",
    "# Part 2 - Interactive coding challenge"
   ]
  },
  {
   "cell_type": "markdown",
   "metadata": {},
   "source": [
    "## 2.1 LinkedList basics\n",
    "\n",
    "Create a LinkedList class that contains the following methods:\n",
    "1. insert_first - inserts a new node at the head position\n",
    "2. print_list - prints list, starting at head"
   ]
  },
  {
   "cell_type": "markdown",
   "metadata": {},
   "source": [
    "## But first... what is a linked list? - whiteboard example"
   ]
  },
  {
   "cell_type": "code",
   "execution_count": 50,
   "metadata": {},
   "outputs": [],
   "source": [
    "class Node():\n",
    "    def __init__(self, data=None, next_node=None):\n",
    "        pass\n",
    "\n",
    "class LinkedList():\n",
    "    def __init__(self, head=None):\n",
    "        pass\n",
    "    \n",
    "    def insert_first(self, data):\n",
    "        pass\n",
    "    \n",
    "    def print_list(self):\n",
    "        pass"
   ]
  },
  {
   "cell_type": "code",
   "execution_count": 51,
   "metadata": {},
   "outputs": [],
   "source": [
    "my_list = LinkedList()\n",
    "my_list.insert_first(7)\n",
    "my_list.insert_first(6)\n",
    "my_list.insert_first(5)\n",
    "my_list.insert_first(4)\n",
    "my_list.insert_first(3)\n",
    "my_list.insert_first(2)\n",
    "my_list.insert_first(1)"
   ]
  },
  {
   "cell_type": "code",
   "execution_count": 52,
   "metadata": {
    "collapsed": true
   },
   "outputs": [
    {
     "name": "stdout",
     "output_type": "stream",
     "text": [
      "1\n",
      "2\n",
      "3\n",
      "4\n",
      "5\n",
      "6\n",
      "7\n"
     ]
    }
   ],
   "source": [
    "my_list.print_list()"
   ]
  },
  {
   "cell_type": "markdown",
   "metadata": {},
   "source": [
    "<br>\n",
    "## 2.2 LinkedList challenge\n",
    "\n",
    "Implement an method to find the \"kth to last\" element of a singly linked list.\n",
    "\n",
    "Example:\n",
    "\n",
    "    1->2->3->4->5\n",
    "    1st to last = 5\n",
    "    2nd to last = 4\n",
    "    3rd to last = 3\n",
    "    4th to last = 2\n",
    "    5th to last = 1\n"
   ]
  },
  {
   "cell_type": "code",
   "execution_count": 65,
   "metadata": {},
   "outputs": [],
   "source": [
    "class Node():\n",
    "    def __init__(self, data=None, next_node=None):\n",
    "        pass\n",
    "\n",
    "class LinkedList():\n",
    "    def __init__(self, head=None):\n",
    "        pass\n",
    "    \n",
    "    def insert_first(self, data):\n",
    "        pass\n",
    "    \n",
    "    def print_list(self):\n",
    "        pass\n",
    "            \n",
    "    def kth_to_last(self, k=0):\n",
    "        pass\n",
    "        \n",
    "    def get_length(self):\n",
    "        pass"
   ]
  },
  {
   "cell_type": "code",
   "execution_count": 66,
   "metadata": {},
   "outputs": [],
   "source": [
    "my_list = LinkedList()\n",
    "my_list.insert_first(7)\n",
    "my_list.insert_first(6)\n",
    "my_list.insert_first(5)\n",
    "my_list.insert_first(4)\n",
    "my_list.insert_first(3)\n",
    "my_list.insert_first(2)\n",
    "my_list.insert_first(1)"
   ]
  },
  {
   "cell_type": "code",
   "execution_count": 67,
   "metadata": {
    "collapsed": true
   },
   "outputs": [
    {
     "data": {
      "text/plain": [
       "6"
      ]
     },
     "execution_count": 67,
     "metadata": {},
     "output_type": "execute_result"
    }
   ],
   "source": [
    "my_list.kth_to_last(2).data"
   ]
  },
  {
   "cell_type": "code",
   "execution_count": null,
   "metadata": {},
   "outputs": [],
   "source": []
  }
 ],
 "metadata": {
  "kernelspec": {
   "display_name": "Python 3",
   "language": "python",
   "name": "python3"
  },
  "language_info": {
   "codemirror_mode": {
    "name": "ipython",
    "version": 3
   },
   "file_extension": ".py",
   "mimetype": "text/x-python",
   "name": "python",
   "nbconvert_exporter": "python",
   "pygments_lexer": "ipython3",
   "version": "3.6.4"
  }
 },
 "nbformat": 4,
 "nbformat_minor": 2
}
